{
 "cells": [
  {
   "cell_type": "code",
   "execution_count": 1,
   "id": "5786d11b-37c1-4d47-a530-d45cb9cb8bd4",
   "metadata": {},
   "outputs": [
    {
     "name": "stdout",
     "output_type": "stream",
     "text": [
      "Estimated offset: -1.75\n"
     ]
    }
   ],
   "source": [
    "def QuboOffset(QUBO):\n",
    "    LinearSum = 0\n",
    "    QuadraticSum = 0\n",
    "\n",
    "    for (i, j), coeff in QUBO.items():\n",
    "        if i == j:\n",
    "            LinearSum += 0.5 * coeff       \n",
    "        else:\n",
    "            QuadraticSum += 0.25 * coeff     \n",
    "\n",
    "    MeanEnergy = LinearSum + QuadraticSum\n",
    "    offset = -MeanEnergy\n",
    "    return offset\n",
    "\n",
    "\n",
    "QUBO = {\n",
    "    ('x1', 'x1'): 2,\n",
    "    ('x2', 'x2'): 3,\n",
    "    ('x3', 'x3'): 1,\n",
    "    ('x1', 'x2'): -4,\n",
    "    ('x1', 'x3'): 2,\n",
    "    ('x2', 'x3'): -3\n",
    "}\n",
    "\n",
    "offset = QuboOffset(QUBO)\n",
    "print(\"Estimated offset:\", offset)\n"
   ]
  }
 ],
 "metadata": {
  "kernelspec": {
   "display_name": "Python (OmarQ)",
   "language": "python",
   "name": "omarq"
  },
  "language_info": {
   "codemirror_mode": {
    "name": "ipython",
    "version": 3
   },
   "file_extension": ".py",
   "mimetype": "text/x-python",
   "name": "python",
   "nbconvert_exporter": "python",
   "pygments_lexer": "ipython3",
   "version": "3.10.18"
  }
 },
 "nbformat": 4,
 "nbformat_minor": 5
}
