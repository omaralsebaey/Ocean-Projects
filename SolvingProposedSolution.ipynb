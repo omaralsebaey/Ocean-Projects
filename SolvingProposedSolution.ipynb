{
 "cells": [
  {
   "cell_type": "code",
   "execution_count": 1,
   "id": "520e12ae-f909-4134-85b2-f305373632ec",
   "metadata": {},
   "outputs": [
    {
     "name": "stdin",
     "output_type": "stream",
     "text": [
      "Enter the binary variable for the 6 nodes:  1\n",
      "Enter the binary variable for the 6 nodes:  1\n",
      "Enter the binary variable for the 6 nodes:  1\n",
      "Enter the binary variable for the 6 nodes:  1\n",
      "Enter the binary variable for the 6 nodes:  0\n",
      "Enter the binary variable for the 6 nodes:  1\n"
     ]
    },
    {
     "name": "stdout",
     "output_type": "stream",
     "text": [
      "{(0, 1): 0.5059232268084285, (0, 2): 1.2638943133541736, (0, 3): 4.375027143904486, (0, 4): 0.3763915601292078, (0, 5): 1.560334625912676, (1, 2): 1.6983233492671208, (1, 3): 1.3058751291015662, (1, 4): 3.7917047932747905, (1, 5): 1.040024988637935, (2, 3): 3.687906593405757, (2, 4): 2.78919866115445, (2, 5): 4.543569374015642, (3, 4): 4.6803228358617615, (3, 5): 4.18783766641464, (4, 5): 1.303997618269475}\n",
      "34.16871641082243\n",
      "Actual Answer:  34.16871641082243\n",
      "Relative Error:  0.0 %\n"
     ]
    }
   ],
   "source": [
    "import numpy, dimod\n",
    "ProposedSolution=[2,2,2,2,2,2]\n",
    "for w in range(len(ProposedSolution)):\n",
    "    ProposedSolution[w] = int(input(\"Enter the binary variable for the 6 nodes: \"))\n",
    "    while ProposedSolution[w] != 1 and ProposedSolution[w] != 0:\n",
    "        print(\"Please enter a valid input\")\n",
    "        ProposedSolution[w] = int(input(\"Enter the binary variable for the 6 nodes (1/0): \"))\n",
    "h = {0: 1, 1: 2, 2: 4, 3: 1, 4: 3, 5: 2}\n",
    "j = {}\n",
    "def CreatingJ(h,j): #Creates j based on h, assigns random values to each pair\n",
    "    y = 0\n",
    "    for i in range(len(h)-1):\n",
    "        y = i+1\n",
    "        while y<len(h):\n",
    "            if (y+1)<=len(h):\n",
    "                cost = numpy.random.uniform(0, 5)\n",
    "                j[(i,y)] = cost\n",
    "                y +=1\n",
    "    return j\n",
    "def CostOfProposedSolution(h, j, ProposedSolution): #Simulates Qubo for the proposed solution\n",
    "    FirstSum = 0\n",
    "    SecondSum = 0\n",
    "    count = 0\n",
    "    for i in ProposedSolution:\n",
    "        x = i\n",
    "        if x==1:\n",
    "            FirstSum += h[count]\n",
    "        count +=1\n",
    "    for y in range(len(h)):\n",
    "        for k in range(len(h)):\n",
    "            if ProposedSolution[y] == 1 and ProposedSolution[k] == 1 and y!=k:\n",
    "                if (k,y) in j:\n",
    "                    cost = j[(k,y)]\n",
    "                    SecondSum += cost\n",
    "                elif (y,k) in j:\n",
    "                    SecondSum += j[(y,k)]\n",
    "    SecondSum = SecondSum/2\n",
    "    Cost = FirstSum + SecondSum\n",
    "    return Cost\n",
    "\n",
    "#I added this recently to make it easy for you to check whether the code works\n",
    "def CheckAnswer(h,j,ProposedSolution, MyAnswer):\n",
    "    QUBO = dimod.BinaryQuadraticModel(h,j,0,dimod.BINARY)\n",
    "    ActualAnswer = QUBO.energy(ProposedSolution)\n",
    "    print(f\"Actual Answer: \", ActualAnswer)\n",
    "    Error = ((ActualAnswer-MyAnswer)/ActualAnswer)*100\n",
    "    print(f\"Relative Error: \", Error, \"%\")\n",
    "\n",
    "j = CreatingJ(h, j)\n",
    "print(j)\n",
    "cost = CostOfProposedSolution(h, j, ProposedSolution)\n",
    "print(cost)\n",
    "CheckAnswer(h,j,ProposedSolution, cost)"
   ]
  }
 ],
 "metadata": {
  "kernelspec": {
   "display_name": "Python (OmarQ)",
   "language": "python",
   "name": "omarq"
  },
  "language_info": {
   "codemirror_mode": {
    "name": "ipython",
    "version": 3
   },
   "file_extension": ".py",
   "mimetype": "text/x-python",
   "name": "python",
   "nbconvert_exporter": "python",
   "pygments_lexer": "ipython3",
   "version": "3.10.18"
  }
 },
 "nbformat": 4,
 "nbformat_minor": 5
}
