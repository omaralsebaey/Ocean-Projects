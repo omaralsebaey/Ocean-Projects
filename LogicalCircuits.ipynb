{
 "cells": [
  {
   "cell_type": "code",
   "execution_count": null,
   "id": "4e7ab9c6-fb03-4a63-8df5-b24ed9e1f1cb",
   "metadata": {},
   "outputs": [],
   "source": [
    "# A and B are input binaries and C is their output\n",
    "import dimod, math\n",
    "A = \"A\"\n",
    "B = \"B\"\n",
    "C = \"C\"\n",
    "\n",
    "def ANDgate():\n",
    "    # E = (C - A*B)^2 = Y + A*B - 2*A*B*Y\n",
    "    h = {A: 0, B: 0, C: 1}\n",
    "    j = {(A, B): 1, (A, C): -2, (B, C): -2}\n",
    "    QUBO = dimod.BinaryQuadraticModel(h,j,0,dimod.BINARY)\n",
    "    return QUBO\n",
    "    \n",
    "\n",
    "def ORgate():\n",
    "    # E = (C - A*B)^2 = C + A*B - 2*A*B*C\n",
    "    h = {A: 0, B: 0, C: 1}\n",
    "    j = {(A, C): 1, (A, C): -2, (B, C): -2}\n",
    "    QUBO = dimod.BinaryQuadraticModel(h,j,0,dimod.BINARY)\n",
    "    return QUBO\n",
    "    \n",
    "def XORgate():\n",
    "    # E = (C - (A + B - 2*A*B))^2 = C + A + B + 4*A*B - 2*A*C - 2*B*C + 4*A*B*C\n",
    "    h = {A: 1, B: 1, C: 1}\n",
    "    j = {(A, B): 4, (A, C): -2, (B, C): -2}\n",
    "    QUBO = dimod.BinaryQuadraticModel(h,j,0,dimod.BINARY)\n",
    "    return QUBO\n",
    "\n",
    "#filter wrong results\n",
    "#give the wanted answer\n",
    "QUBO = XORgate()\n",
    "computer = dimod.ExactSolver()\n",
    "answer = computer.sample(QUBO)\n",
    "print(answer)"
   ]
  }
 ],
 "metadata": {
  "kernelspec": {
   "display_name": "Python (OmarQ)",
   "language": "python",
   "name": "omarq"
  },
  "language_info": {
   "codemirror_mode": {
    "name": "ipython",
    "version": 3
   },
   "file_extension": ".py",
   "mimetype": "text/x-python",
   "name": "python",
   "nbconvert_exporter": "python",
   "pygments_lexer": "ipython3",
   "version": "3.10.18"
  }
 },
 "nbformat": 4,
 "nbformat_minor": 5
}
