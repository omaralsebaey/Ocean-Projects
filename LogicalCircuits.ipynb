{
 "cells": [
  {
   "cell_type": "code",
   "execution_count": null,
   "id": "4e7ab9c6-fb03-4a63-8df5-b24ed9e1f1cb",
   "metadata": {},
   "outputs": [],
   "source": []
  }
 ],
 "metadata": {
  "kernelspec": {
   "display_name": "",
   "name": ""
  },
  "language_info": {
   "name": ""
  }
 },
 "nbformat": 4,
 "nbformat_minor": 5
}
